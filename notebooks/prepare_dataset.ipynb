{
 "cells": [
  {
   "cell_type": "code",
   "id": "initial_id",
   "metadata": {
    "collapsed": true,
    "ExecuteTime": {
     "end_time": "2025-05-13T14:03:39.076524Z",
     "start_time": "2025-05-13T14:03:39.021833Z"
    }
   },
   "source": [
    "import pandas as pd\n",
    "import numpy as np\n",
    "import os"
   ],
   "outputs": [],
   "execution_count": 17
  },
  {
   "metadata": {
    "ExecuteTime": {
     "end_time": "2025-05-13T14:23:49.330453Z",
     "start_time": "2025-05-13T14:23:49.303348Z"
    }
   },
   "cell_type": "code",
   "source": [
    "data = pd.read_csv('D:\\\\course_project\\\\data\\\\datasets\\\\dataset.csv')\n",
    "data_audio = pd.read_csv('D:\\\\course_project\\\\data\\\\datasets\\\\dataset_audio.csv')\n",
    "data_face = pd.read_csv('D:\\\\course_project\\\\data\\\\datasets\\\\dataset_facial_expression.csv')\n",
    "data_aus = pd.read_csv('D:\\\\course_project\\\\data\\\\datasets\\\\dataset_facial_expression_aus.csv')\n",
    "data_gesture = pd.read_csv('D:\\\\course_project\\\\data\\\\datasets\\\\dataset_gesture_cleaned.csv')\n",
    "wpm = pd.read_csv('D:\\\\course_project\\\\data\\\\datasets\\\\wpm.csv')\n",
    "\n",
    "data_audio.drop(columns=['confidence_assessment'], inplace=True)\n",
    "data_face.drop(columns=['confidence_assessment'], inplace=True)\n",
    "data_aus.drop(columns=['confidence_assessment'], inplace=True)\n",
    "data_gesture.drop(columns=['confidence_assessment'], inplace=True)"
   ],
   "id": "51644656ab9b1533",
   "outputs": [],
   "execution_count": 42
  },
  {
   "metadata": {
    "ExecuteTime": {
     "end_time": "2025-05-13T14:23:50.275840Z",
     "start_time": "2025-05-13T14:23:50.263282Z"
    }
   },
   "cell_type": "code",
   "source": [
    "data = (data\n",
    " .merge(data_audio, on='segment_name', how='left')\n",
    " .merge(data_face, on='segment_name', how='left')\n",
    " .merge(data_aus, on='segment_name', how='left')\n",
    " .merge(data_gesture, on='segment_name', how='left')\n",
    " .merge(wpm, on='segment_name', how='left')\n",
    " )"
   ],
   "id": "597089c112596c14",
   "outputs": [],
   "execution_count": 43
  },
  {
   "metadata": {
    "ExecuteTime": {
     "end_time": "2025-05-13T14:23:50.990912Z",
     "start_time": "2025-05-13T14:23:50.984409Z"
    }
   },
   "cell_type": "code",
   "source": "data.columns",
   "id": "88bbcf67b53d2afb",
   "outputs": [
    {
     "data": {
      "text/plain": [
       "Index(['segment_name', 'confidence_assessment', 'pydub_avg_loudness_dBFS',\n",
       "       'pydub_silence_%', 'librosa_avg_RMS', 'librosa_silence_%',\n",
       "       'librosa_avg_pitch_Hz', 'WebRTC_VAD_speech_%', 'WebRTC_VAD_silence_%',\n",
       "       'parselmouth_mean_pitch_Hz', 'parselmouth_jitter',\n",
       "       'parselmouth_shimmer', 'mediapipe_mouth_openness_mean',\n",
       "       'mediapipe_mouth_openness_variance', 'mediapipe_eyebrow_height_mean',\n",
       "       'mediapipe_eyebrow_height_variance', 'mediapipe_frames_analyzed',\n",
       "       'deepface_most_frequent_emotion', 'deepface_emotion_distribution_%',\n",
       "       'deepface_angry', 'deepface_disgust', 'deepface_fear', 'deepface_happy',\n",
       "       'deepface_neutral', 'deepface_sad', 'deepface_surprise',\n",
       "       'openface_dominant_emotion_approx', 'openface_emotion_scores',\n",
       "       'openface_au_means', 'openface_AU01_r', 'openface_AU02_r',\n",
       "       'openface_AU04_r', 'openface_AU05_r', 'openface_AU06_r',\n",
       "       'openface_AU07_r', 'openface_AU09_r', 'openface_AU10_r',\n",
       "       'openface_AU12_r', 'openface_AU14_r', 'openface_AU15_r',\n",
       "       'openface_AU17_r', 'openface_AU20_r', 'openface_AU23_r',\n",
       "       'openface_AU25_r', 'openface_AU26_r', 'openface_AU45_r',\n",
       "       'openface_happy', 'openface_surprised', 'openface_angry',\n",
       "       'openface_sad', 'mediapipe_left_hand_variability',\n",
       "       'mediapipe_right_hand_variability',\n",
       "       'mediapipe_avg_hand_movement_amplitude',\n",
       "       'mediapipe_valid_frames_analyzed', 'mediapipe_total_frames',\n",
       "       'mediapipe_coverage_%', 'wpm'],\n",
       "      dtype='object')"
      ]
     },
     "execution_count": 44,
     "metadata": {},
     "output_type": "execute_result"
    }
   ],
   "execution_count": 44
  },
  {
   "metadata": {
    "ExecuteTime": {
     "end_time": "2025-05-13T14:24:14.801340Z",
     "start_time": "2025-05-13T14:24:14.765785Z"
    }
   },
   "cell_type": "code",
   "source": [
    "data.drop(columns=['deepface_emotion_distribution_%', 'openface_emotion_scores', 'openface_au_means'], inplace=True)\n",
    "data.to_csv('D:\\\\course_project\\\\data\\\\datasets\\\\dataset_final.csv', index=False)"
   ],
   "id": "b89bd927ace63b9d",
   "outputs": [],
   "execution_count": 46
  },
  {
   "metadata": {
    "ExecuteTime": {
     "end_time": "2025-05-13T14:23:55.355502Z",
     "start_time": "2025-05-13T14:23:55.341975Z"
    }
   },
   "cell_type": "code",
   "source": "data.info()",
   "id": "462e3ee35df39ec7",
   "outputs": [
    {
     "name": "stdout",
     "output_type": "stream",
     "text": [
      "<class 'pandas.core.frame.DataFrame'>\n",
      "RangeIndex: 512 entries, 0 to 511\n",
      "Data columns (total 57 columns):\n",
      " #   Column                                 Non-Null Count  Dtype  \n",
      "---  ------                                 --------------  -----  \n",
      " 0   segment_name                           512 non-null    object \n",
      " 1   confidence_assessment                  512 non-null    float64\n",
      " 2   pydub_avg_loudness_dBFS                512 non-null    float64\n",
      " 3   pydub_silence_%                        512 non-null    float64\n",
      " 4   librosa_avg_RMS                        512 non-null    float64\n",
      " 5   librosa_silence_%                      512 non-null    float64\n",
      " 6   librosa_avg_pitch_Hz                   512 non-null    float64\n",
      " 7   WebRTC_VAD_speech_%                    512 non-null    float64\n",
      " 8   WebRTC_VAD_silence_%                   512 non-null    float64\n",
      " 9   parselmouth_mean_pitch_Hz              512 non-null    float64\n",
      " 10  parselmouth_jitter                     512 non-null    float64\n",
      " 11  parselmouth_shimmer                    512 non-null    float64\n",
      " 12  mediapipe_mouth_openness_mean          512 non-null    float64\n",
      " 13  mediapipe_mouth_openness_variance      512 non-null    float64\n",
      " 14  mediapipe_eyebrow_height_mean          512 non-null    float64\n",
      " 15  mediapipe_eyebrow_height_variance      512 non-null    float64\n",
      " 16  mediapipe_frames_analyzed              512 non-null    float64\n",
      " 17  deepface_most_frequent_emotion         512 non-null    object \n",
      " 18  deepface_emotion_distribution_%        512 non-null    object \n",
      " 19  deepface_angry                         512 non-null    float64\n",
      " 20  deepface_disgust                       512 non-null    float64\n",
      " 21  deepface_fear                          512 non-null    float64\n",
      " 22  deepface_happy                         512 non-null    float64\n",
      " 23  deepface_neutral                       512 non-null    float64\n",
      " 24  deepface_sad                           512 non-null    float64\n",
      " 25  deepface_surprise                      512 non-null    float64\n",
      " 26  openface_dominant_emotion_approx       512 non-null    object \n",
      " 27  openface_emotion_scores                512 non-null    object \n",
      " 28  openface_au_means                      512 non-null    object \n",
      " 29  openface_AU01_r                        512 non-null    float64\n",
      " 30  openface_AU02_r                        512 non-null    float64\n",
      " 31  openface_AU04_r                        512 non-null    float64\n",
      " 32  openface_AU05_r                        512 non-null    float64\n",
      " 33  openface_AU06_r                        512 non-null    float64\n",
      " 34  openface_AU07_r                        512 non-null    float64\n",
      " 35  openface_AU09_r                        512 non-null    float64\n",
      " 36  openface_AU10_r                        512 non-null    float64\n",
      " 37  openface_AU12_r                        512 non-null    float64\n",
      " 38  openface_AU14_r                        512 non-null    float64\n",
      " 39  openface_AU15_r                        512 non-null    float64\n",
      " 40  openface_AU17_r                        512 non-null    float64\n",
      " 41  openface_AU20_r                        512 non-null    float64\n",
      " 42  openface_AU23_r                        512 non-null    float64\n",
      " 43  openface_AU25_r                        512 non-null    float64\n",
      " 44  openface_AU26_r                        512 non-null    float64\n",
      " 45  openface_AU45_r                        512 non-null    float64\n",
      " 46  openface_happy                         512 non-null    float64\n",
      " 47  openface_surprised                     512 non-null    float64\n",
      " 48  openface_angry                         512 non-null    float64\n",
      " 49  openface_sad                           512 non-null    float64\n",
      " 50  mediapipe_left_hand_variability        469 non-null    float64\n",
      " 51  mediapipe_right_hand_variability       469 non-null    float64\n",
      " 52  mediapipe_avg_hand_movement_amplitude  469 non-null    float64\n",
      " 53  mediapipe_valid_frames_analyzed        469 non-null    float64\n",
      " 54  mediapipe_total_frames                 469 non-null    float64\n",
      " 55  mediapipe_coverage_%                   469 non-null    float64\n",
      " 56  wpm                                    512 non-null    float64\n",
      "dtypes: float64(51), object(6)\n",
      "memory usage: 228.1+ KB\n"
     ]
    }
   ],
   "execution_count": 45
  }
 ],
 "metadata": {
  "kernelspec": {
   "display_name": "Python 3",
   "language": "python",
   "name": "python3"
  },
  "language_info": {
   "codemirror_mode": {
    "name": "ipython",
    "version": 2
   },
   "file_extension": ".py",
   "mimetype": "text/x-python",
   "name": "python",
   "nbconvert_exporter": "python",
   "pygments_lexer": "ipython2",
   "version": "2.7.6"
  }
 },
 "nbformat": 4,
 "nbformat_minor": 5
}
